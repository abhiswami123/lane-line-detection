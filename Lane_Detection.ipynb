{
  "nbformat": 4,
  "nbformat_minor": 0,
  "metadata": {
    "colab": {
      "name": "Lane_Detection.ipynb",
      "provenance": [],
      "collapsed_sections": []
    },
    "kernelspec": {
      "display_name": "Python 3",
      "name": "python3"
    },
    "language_info": {
      "name": "python"
    }
  },
  "cells": [
    {
      "cell_type": "code",
      "metadata": {
        "colab": {
          "background_save": true
        },
        "id": "hhPOI9MZSeBH"
      },
      "source": [
        "import cv2\n",
        "from google.colab.patches import cv2_imshow\n",
        "import numpy as np\n",
        "def make_coordinates(image,line_parameters):\n",
        "  slope,intercept = line_parameters\n",
        "  y1 = image.shape[0]\n",
        "  y2 = int(y1*(3/5))\n",
        "  x1 = int((y1-intercept)/slope)\n",
        "  x2 = int((y2-intercept)/slope)\n",
        "  return np.array([x1,y1,x2,y2])\n",
        "\n",
        "def average_slope_intercept(image,lines):\n",
        "  left_fit = []\n",
        "  right_fit = []\n",
        "  for line in lines:\n",
        "    x1,x2,y1,y2 = line.reshape(4)\n",
        "    parameters = np.polyfit((x1,x2),(y1,y2),1)\n",
        "    slope = parameters[0]\n",
        "    intercept = parameters[1]\n",
        "    if slope<0:\n",
        "      left_fit.append((slope,intercept))\n",
        "    else:\n",
        "      right_fit.append((slope,intercept))\n",
        "  left_fit_average = np.average(left_fit,axis=0)\n",
        "  right_fit_average = np.average(right_fit,axis=0)\n",
        "  left_line = make_coordinates(image,left_fit_average)\n",
        "  right_line = make_coordinates(image,right_fit_average)\n",
        "  return np.array([left_line,right_line])\n",
        "\n",
        "\n",
        "def canny(image):\n",
        "  gray = cv2.cvtColor(image,cv2.COLOR_RGB2BGR)\n",
        "  blur = cv2.GaussianBlur(gray,(5,5),0)\n",
        "  canny = cv2.Canny(blur,50,150)\n",
        "  return canny\n",
        "\n",
        "\n",
        "def display_lines(image,lines):\n",
        "  line_image = np.zeros_like(image)\n",
        "  if lines is not None:\n",
        "    for x1,y1,x2,y2 in lines:\n",
        "      cv2.line(line_image, (x1,y1),(x2,y2),(255,0,0),10)\n",
        "  return line_image\n",
        "  \n",
        "def region_of_intrest(image):\n",
        "  height = image.shape[0]\n",
        "  polygons = np.array([\n",
        "                       [(200,height),(1100,height),(550,250)]\n",
        "  ])\n",
        "  mask = np.zeros_like(image)\n",
        "  cv2.fillPoly(mask,polygons,255)\n",
        "  masked_image = cv2.bitwise_and(image,mask)\n",
        "  return masked_image\n",
        "\n",
        "\n",
        "cap = cv2.VideoCapture(\"test2.mp4\")\n",
        "while(cap.isOpened()):\n",
        "  _, frame = cap.read()\n",
        "  canny_image = canny(frame)\n",
        "  cropped_image = region_of_intrest(canny_image)\n",
        "  lines = cv2.HoughLinesP(cropped_image,2,np.pi/180,100,np.array([]),minLineLength=40,maxLineGap=5)\n",
        "  averaged_lines = average_slope_intercept(frame,lines)\n",
        "  line_image = display_lines(frame,averaged_lines)\n",
        "  combo_image = cv2.addWeighted(frame,0.8,line_image,1,1)\n",
        "  cv2_imshow(combo_image)\n",
        "  if cv2.waitKey(1) == ord('q'):\n",
        "    break\n",
        "cap.release()"
      ],
      "execution_count": null,
      "outputs": []
    },
    {
      "cell_type": "code",
      "metadata": {
        "id": "sAMJrElMvRxG"
      },
      "source": [
        "def canny(image):\n",
        "  gray = cv2.cvtColor(image,cv2.COLOR_RGB2BGR)\n",
        "  blur = cv2.GaussianBlur(gray,(5,5),0)\n",
        "  canny = cv2.Canny(blur,50,150)\n",
        "  return canny\n"
      ],
      "execution_count": null,
      "outputs": []
    },
    {
      "cell_type": "code",
      "metadata": {
        "id": "2K1061RRvYxj"
      },
      "source": [
        ""
      ],
      "execution_count": null,
      "outputs": []
    }
  ]
}